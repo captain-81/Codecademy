{
 "cells": [
  {
   "cell_type": "code",
   "execution_count": 12,
   "id": "0fd70b4f",
   "metadata": {},
   "outputs": [],
   "source": [
    "# names of hurricanes\n",
    "names = ['Cuba I', 'San Felipe II Okeechobee', 'Bahamas', 'Cuba II', 'CubaBrownsville', 'Tampico', 'Labor Day', 'New England', 'Carol', 'Janet', 'Carla', 'Hattie', 'Beulah', 'Camille', 'Edith', 'Anita', 'David', 'Allen', 'Gilbert', 'Hugo', 'Andrew', 'Mitch', 'Isabel', 'Ivan', 'Emily', 'Katrina', 'Rita', 'Wilma', 'Dean', 'Felix', 'Matthew', 'Irma', 'Maria', 'Michael']\n",
    "\n",
    "# months of hurricanes\n",
    "months = ['October', 'September', 'September', 'November', 'August', 'September', 'September', 'September', 'September', 'September', 'September', 'October', 'September', 'August', 'September', 'September', 'August', 'August', 'September', 'September', 'August', 'October', 'September', 'September', 'July', 'August', 'September', 'October', 'August', 'September', 'October', 'September', 'September', 'October']\n",
    "\n",
    "# years of hurricanes\n",
    "years = [1924, 1928, 1932, 1932, 1933, 1933, 1935, 1938, 1953, 1955, 1961, 1961, 1967, 1969, 1971, 1977, 1979, 1980, 1988, 1989, 1992, 1998, 2003, 2004, 2005, 2005, 2005, 2005, 2007, 2007, 2016, 2017, 2017, 2018]\n",
    "\n",
    "# maximum sustained winds (mph) of hurricanes\n",
    "max_sustained_winds = [165, 160, 160, 175, 160, 160, 185, 160, 160, 175, 175, 160, 160, 175, 160, 175, 175, 190, 185, 160, 175, 180, 165, 165, 160, 175, 180, 185, 175, 175, 165, 180, 175, 160]\n",
    "\n",
    "# areas affected by each hurricane\n",
    "areas_affected = [['Central America', 'Mexico', 'Cuba', 'Florida', 'The Bahamas'], ['Lesser Antilles', 'The Bahamas', 'United States East Coast', 'Atlantic Canada'], ['The Bahamas', 'Northeastern United States'], ['Lesser Antilles', 'Jamaica', 'Cayman Islands', 'Cuba', 'The Bahamas', 'Bermuda'], ['The Bahamas', 'Cuba', 'Florida', 'Texas', 'Tamaulipas'], ['Jamaica', 'Yucatn Peninsula'], ['The Bahamas', 'Florida', 'Georgia', 'The Carolinas', 'Virginia'], ['Southeastern United States', 'Northeastern United States', 'Southwestern Quebec'], ['Bermuda', 'New England', 'Atlantic Canada'], ['Lesser Antilles', 'Central America'], ['Texas', 'Louisiana', 'Midwestern United States'], ['Central America'], ['The Caribbean', 'Mexico', 'Texas'], ['Cuba', 'United States Gulf Coast'], ['The Caribbean', 'Central America', 'Mexico', 'United States Gulf Coast'], ['Mexico'], ['The Caribbean', 'United States East coast'], ['The Caribbean', 'Yucatn Peninsula', 'Mexico', 'South Texas'], ['Jamaica', 'Venezuela', 'Central America', 'Hispaniola', 'Mexico'], ['The Caribbean', 'United States East Coast'], ['The Bahamas', 'Florida', 'United States Gulf Coast'], ['Central America', 'Yucatn Peninsula', 'South Florida'], ['Greater Antilles', 'Bahamas', 'Eastern United States', 'Ontario'], ['The Caribbean', 'Venezuela', 'United States Gulf Coast'], ['Windward Islands', 'Jamaica', 'Mexico', 'Texas'], ['Bahamas', 'United States Gulf Coast'], ['Cuba', 'United States Gulf Coast'], ['Greater Antilles', 'Central America', 'Florida'], ['The Caribbean', 'Central America'], ['Nicaragua', 'Honduras'], ['Antilles', 'Venezuela', 'Colombia', 'United States East Coast', 'Atlantic Canada'], ['Cape Verde', 'The Caribbean', 'British Virgin Islands', 'U.S. Virgin Islands', 'Cuba', 'Florida'], ['Lesser Antilles', 'Virgin Islands', 'Puerto Rico', 'Dominican Republic', 'Turks and Caicos Islands'], ['Central America', 'United States Gulf Coast (especially Florida Panhandle)']]\n",
    "\n",
    "# damages (USD($)) of hurricanes\n",
    "damages = ['Damages not recorded', '100M', 'Damages not recorded', '40M', '27.9M', '5M', 'Damages not recorded', '306M', '2M', '65.8M', '326M', '60.3M', '208M', '1.42B', '25.4M', 'Damages not recorded', '1.54B', '1.24B', '7.1B', '10B', '26.5B', '6.2B', '5.37B', '23.3B', '1.01B', '125B', '12B', '29.4B', '1.76B', '720M', '15.1B', '64.8B', '91.6B', '25.1B']\n",
    "\n",
    "# deaths for each hurricane\n",
    "deaths = [90,4000,16,3103,179,184,408,682,5,1023,43,319,688,259,37,11,2068,269,318,107,65,19325,51,124,17,1836,125,87,45,133,603,138,3057,74]"
   ]
  },
  {
   "cell_type": "code",
   "execution_count": 13,
   "id": "f2da68e9",
   "metadata": {},
   "outputs": [],
   "source": [
    "#Write a function that returns a new list of updated damages where the recorded data is converted to float values and the \n",
    "#missing data is retained as \"Damages not recorded\".\n",
    "\n",
    "conversion = {\"M\": 1000000,\n",
    "              \"B\": 1000000000}\n",
    "\n",
    "\n",
    "#convert damages to float\n",
    "\n",
    "# First,create an empty new_damages list that will eventually be populated with data from the function\n",
    "# loop thorugh the damages list. For each list entry, check if the last character in the string is an M. if so strip the 'M' off\n",
    "# the string, &convert the remaining characters into a float. lookup the value for the key \"M\" in the conversion dictionary\n",
    "# and multiply the new float by this conversion value. Append the float to the new_damages list.\n",
    "# Repeat this process where the last character in the string is a \"B\", instead using the value under the key \"B\" in the conversion \n",
    "# table.If the last character is neither an \"M\" or a \"B\" then take the original string and append this to the new_damages list.\n",
    "def damages_float(damages):\n",
    "    damages_new =[]\n",
    "    for string in damages:\n",
    "        if(string[-1]) ==\"M\":\n",
    "            damages_new.append(float((string.strip(string[-1]))) * conversion[\"M\"])\n",
    "        elif(string[-1]) ==\"B\":\n",
    "            damages_new.append(float((string.strip(string[-1])))* conversion[\"B\"])\n",
    "        else:\n",
    "            damages_new.append(string)\n",
    "    return damages_new\n",
    "\n",
    "# Call the damages_float function, passing the data stored in the damages list as variables\n",
    "# The function will print the new_damages list, with the populated data in damages stored as a float, and the missing data stored \n",
    "# as the string \"Damages not recorded\"\n",
    "\n",
    "#create damages_new to be used in the next task\n",
    "damages_new = (damages_float(damages))"
   ]
  },
  {
   "cell_type": "code",
   "execution_count": 62,
   "id": "7c84c80b",
   "metadata": {},
   "outputs": [
    {
     "name": "stdout",
     "output_type": "stream",
     "text": [
      "{'Cuba I': {'Name': 'Cuba I', 'Month': 'October', 'Year': 1924, 'Max Sustained Wind': 165, 'Areas Affected': ['Central America', 'Mexico', 'Cuba', 'Florida', 'The Bahamas'], 'Damage': 'Damages not recorded', 'Death': 90}, 'San Felipe II Okeechobee': {'Name': 'San Felipe II Okeechobee', 'Month': 'September', 'Year': 1928, 'Max Sustained Wind': 160, 'Areas Affected': ['Lesser Antilles', 'The Bahamas', 'United States East Coast', 'Atlantic Canada'], 'Damage': 100000000.0, 'Death': 4000}, 'Bahamas': {'Name': 'Bahamas', 'Month': 'September', 'Year': 1932, 'Max Sustained Wind': 160, 'Areas Affected': ['The Bahamas', 'Northeastern United States'], 'Damage': 'Damages not recorded', 'Death': 16}, 'Cuba II': {'Name': 'Cuba II', 'Month': 'November', 'Year': 1932, 'Max Sustained Wind': 175, 'Areas Affected': ['Lesser Antilles', 'Jamaica', 'Cayman Islands', 'Cuba', 'The Bahamas', 'Bermuda'], 'Damage': 40000000.0, 'Death': 3103}, 'CubaBrownsville': {'Name': 'CubaBrownsville', 'Month': 'August', 'Year': 1933, 'Max Sustained Wind': 160, 'Areas Affected': ['The Bahamas', 'Cuba', 'Florida', 'Texas', 'Tamaulipas'], 'Damage': 27900000.0, 'Death': 179}, 'Tampico': {'Name': 'Tampico', 'Month': 'September', 'Year': 1933, 'Max Sustained Wind': 160, 'Areas Affected': ['Jamaica', 'Yucatn Peninsula'], 'Damage': 5000000.0, 'Death': 184}, 'Labor Day': {'Name': 'Labor Day', 'Month': 'September', 'Year': 1935, 'Max Sustained Wind': 185, 'Areas Affected': ['The Bahamas', 'Florida', 'Georgia', 'The Carolinas', 'Virginia'], 'Damage': 'Damages not recorded', 'Death': 408}, 'New England': {'Name': 'New England', 'Month': 'September', 'Year': 1938, 'Max Sustained Wind': 160, 'Areas Affected': ['Southeastern United States', 'Northeastern United States', 'Southwestern Quebec'], 'Damage': 306000000.0, 'Death': 682}, 'Carol': {'Name': 'Carol', 'Month': 'September', 'Year': 1953, 'Max Sustained Wind': 160, 'Areas Affected': ['Bermuda', 'New England', 'Atlantic Canada'], 'Damage': 2000000.0, 'Death': 5}, 'Janet': {'Name': 'Janet', 'Month': 'September', 'Year': 1955, 'Max Sustained Wind': 175, 'Areas Affected': ['Lesser Antilles', 'Central America'], 'Damage': 65800000.0, 'Death': 1023}, 'Carla': {'Name': 'Carla', 'Month': 'September', 'Year': 1961, 'Max Sustained Wind': 175, 'Areas Affected': ['Texas', 'Louisiana', 'Midwestern United States'], 'Damage': 326000000.0, 'Death': 43}, 'Hattie': {'Name': 'Hattie', 'Month': 'October', 'Year': 1961, 'Max Sustained Wind': 160, 'Areas Affected': ['Central America'], 'Damage': 60300000.0, 'Death': 319}, 'Beulah': {'Name': 'Beulah', 'Month': 'September', 'Year': 1967, 'Max Sustained Wind': 160, 'Areas Affected': ['The Caribbean', 'Mexico', 'Texas'], 'Damage': 208000000.0, 'Death': 688}, 'Camille': {'Name': 'Camille', 'Month': 'August', 'Year': 1969, 'Max Sustained Wind': 175, 'Areas Affected': ['Cuba', 'United States Gulf Coast'], 'Damage': 1420000000.0, 'Death': 259}, 'Edith': {'Name': 'Edith', 'Month': 'September', 'Year': 1971, 'Max Sustained Wind': 160, 'Areas Affected': ['The Caribbean', 'Central America', 'Mexico', 'United States Gulf Coast'], 'Damage': 25400000.0, 'Death': 37}, 'Anita': {'Name': 'Anita', 'Month': 'September', 'Year': 1977, 'Max Sustained Wind': 175, 'Areas Affected': ['Mexico'], 'Damage': 'Damages not recorded', 'Death': 11}, 'David': {'Name': 'David', 'Month': 'August', 'Year': 1979, 'Max Sustained Wind': 175, 'Areas Affected': ['The Caribbean', 'United States East coast'], 'Damage': 1540000000.0, 'Death': 2068}, 'Allen': {'Name': 'Allen', 'Month': 'August', 'Year': 1980, 'Max Sustained Wind': 190, 'Areas Affected': ['The Caribbean', 'Yucatn Peninsula', 'Mexico', 'South Texas'], 'Damage': 1240000000.0, 'Death': 269}, 'Gilbert': {'Name': 'Gilbert', 'Month': 'September', 'Year': 1988, 'Max Sustained Wind': 185, 'Areas Affected': ['Jamaica', 'Venezuela', 'Central America', 'Hispaniola', 'Mexico'], 'Damage': 7100000000.0, 'Death': 318}, 'Hugo': {'Name': 'Hugo', 'Month': 'September', 'Year': 1989, 'Max Sustained Wind': 160, 'Areas Affected': ['The Caribbean', 'United States East Coast'], 'Damage': 10000000000.0, 'Death': 107}, 'Andrew': {'Name': 'Andrew', 'Month': 'August', 'Year': 1992, 'Max Sustained Wind': 175, 'Areas Affected': ['The Bahamas', 'Florida', 'United States Gulf Coast'], 'Damage': 26500000000.0, 'Death': 65}, 'Mitch': {'Name': 'Mitch', 'Month': 'October', 'Year': 1998, 'Max Sustained Wind': 180, 'Areas Affected': ['Central America', 'Yucatn Peninsula', 'South Florida'], 'Damage': 6200000000.0, 'Death': 19325}, 'Isabel': {'Name': 'Isabel', 'Month': 'September', 'Year': 2003, 'Max Sustained Wind': 165, 'Areas Affected': ['Greater Antilles', 'Bahamas', 'Eastern United States', 'Ontario'], 'Damage': 5370000000.0, 'Death': 51}, 'Ivan': {'Name': 'Ivan', 'Month': 'September', 'Year': 2004, 'Max Sustained Wind': 165, 'Areas Affected': ['The Caribbean', 'Venezuela', 'United States Gulf Coast'], 'Damage': 23300000000.0, 'Death': 124}, 'Emily': {'Name': 'Emily', 'Month': 'July', 'Year': 2005, 'Max Sustained Wind': 160, 'Areas Affected': ['Windward Islands', 'Jamaica', 'Mexico', 'Texas'], 'Damage': 1010000000.0, 'Death': 17}, 'Katrina': {'Name': 'Katrina', 'Month': 'August', 'Year': 2005, 'Max Sustained Wind': 175, 'Areas Affected': ['Bahamas', 'United States Gulf Coast'], 'Damage': 125000000000.0, 'Death': 1836}, 'Rita': {'Name': 'Rita', 'Month': 'September', 'Year': 2005, 'Max Sustained Wind': 180, 'Areas Affected': ['Cuba', 'United States Gulf Coast'], 'Damage': 12000000000.0, 'Death': 125}, 'Wilma': {'Name': 'Wilma', 'Month': 'October', 'Year': 2005, 'Max Sustained Wind': 185, 'Areas Affected': ['Greater Antilles', 'Central America', 'Florida'], 'Damage': 29400000000.0, 'Death': 87}, 'Dean': {'Name': 'Dean', 'Month': 'August', 'Year': 2007, 'Max Sustained Wind': 175, 'Areas Affected': ['The Caribbean', 'Central America'], 'Damage': 1760000000.0, 'Death': 45}, 'Felix': {'Name': 'Felix', 'Month': 'September', 'Year': 2007, 'Max Sustained Wind': 175, 'Areas Affected': ['Nicaragua', 'Honduras'], 'Damage': 720000000.0, 'Death': 133}, 'Matthew': {'Name': 'Matthew', 'Month': 'October', 'Year': 2016, 'Max Sustained Wind': 165, 'Areas Affected': ['Antilles', 'Venezuela', 'Colombia', 'United States East Coast', 'Atlantic Canada'], 'Damage': 15100000000.0, 'Death': 603}, 'Irma': {'Name': 'Irma', 'Month': 'September', 'Year': 2017, 'Max Sustained Wind': 180, 'Areas Affected': ['Cape Verde', 'The Caribbean', 'British Virgin Islands', 'U.S. Virgin Islands', 'Cuba', 'Florida'], 'Damage': 64800000000.0, 'Death': 138}, 'Maria': {'Name': 'Maria', 'Month': 'September', 'Year': 2017, 'Max Sustained Wind': 175, 'Areas Affected': ['Lesser Antilles', 'Virgin Islands', 'Puerto Rico', 'Dominican Republic', 'Turks and Caicos Islands'], 'Damage': 91600000000.0, 'Death': 3057}, 'Michael': {'Name': 'Michael', 'Month': 'October', 'Year': 2018, 'Max Sustained Wind': 160, 'Areas Affected': ['Central America', 'United States Gulf Coast (especially Florida Panhandle)'], 'Damage': 25100000000.0, 'Death': 74}}\n",
      "{'Name': 'Carol', 'Month': 'September', 'Year': 1953, 'Max Sustained Wind': 160, 'Areas Affected': ['Bermuda', 'New England', 'Atlantic Canada'], 'Damage': 2000000.0, 'Death': 5}\n"
     ]
    }
   ],
   "source": [
    "\n",
    "# Write a function that constructs a dictionary made out of the lists, where the keys of the dictionary are the names \n",
    "# of the hurricanes, and the values are dictionaries themselves containing a key for each piece of data (Name, Month, \n",
    "# Year,Max Sustained Wind, Areas Affected, Damage, Death) about the hurricane.\n",
    "\n",
    "#create an empty dictionary\n",
    "hurricanes_dict={}\n",
    "\n",
    "def hurricanes_dictionary(names, months, years, max_sustained_winds, areas_affected, damages, deaths):\n",
    "    for index in range(len(names)):\n",
    "      hurricanes_dict[names[index]] = {'Name': names[index], 'Month': months[index], 'Year': years[index], 'Max Sustained Wind': max_sustained_winds[index], 'Areas Affected': areas_affected[index],'Damage': damages[index], 'Death': deaths[index]}\n",
    "    return hurricanes_dict\n",
    "\n",
    "\n",
    "print(hurricanes_dictionary(names, months, years, max_sustained_winds, areas_affected, damages_new, deaths))\n",
    "print(hurricanes_dict[\"Carol\"])\n",
    "\n",
    "\n",
    "\n",
    "# # the function loops through each name in the names table and an index is given to each name, and this index is used to iterate \n",
    "# # through all the other lists and populate the new dictionary with the data corresponsing to the current index from each list\n",
    "# def hurricanes_dictionary(names, months, years, max_sustained_winds, areas_affected, damages, deaths):\n",
    "#     for index in range(len(names)):\n",
    "#       hurricanes_dict[names[index]] = {'Name': name[index], 'Month': months[index], 'Year': years[index], 'Max Sustained Wind': max_sustained_winds[index], 'Areas Affected': areas_affected[index],'Damage': damages[index], 'Death': deaths[index]}\n",
    "#     return hurricanes_dict\n",
    "\n",
    "\n",
    "# print(hurricanes_dictionary(names, months, years, max_sustained_winds, areas_affected, damages_new, deaths))\n",
    "# print(hurricanes_dict[\"Cuba I\"])"
   ]
  },
  {
   "cell_type": "code",
   "execution_count": 87,
   "id": "f73b2c08",
   "metadata": {
    "scrolled": true
   },
   "outputs": [
    {
     "name": "stdout",
     "output_type": "stream",
     "text": [
      "[{'Name': 'CubaBrownsville', 'Month': 'August', 'Year': 1933, 'Max Sustained Wind': 160, 'Areas Affected': ['The Bahamas', 'Cuba', 'Florida', 'Texas', 'Tamaulipas'], 'Damage': 27900000.0, 'Death': 179}, {'Name': 'Tampico', 'Month': 'September', 'Year': 1933, 'Max Sustained Wind': 160, 'Areas Affected': ['Jamaica', 'Yucatn Peninsula'], 'Damage': 5000000.0, 'Death': 184}]\n"
     ]
    }
   ],
   "source": [
    "#Write a function that converts the current dictionary of hurricanes to a new dictionary, where the keys are years and the \n",
    "# values are lists containing a dictionary for each hurricane that occurred in that year.\n",
    "#define the function passing in a dictionary as the variable\n",
    "def hurricanes_by_year(dictionary):\n",
    "    #create a blank dict to populate later\n",
    "    hurricanes_by_year_dict = {}\n",
    "    #iterate through the existing dic of hurricanes\n",
    "    for key, value in dictionary.items():\n",
    "        #look up the value of the year from the current record and assign it to a variable named year\n",
    "        year = dictionary[key][\"Year\"]\n",
    "        #if the current year is not already in the new dictionary then populate the new dict with the year as the key and\n",
    "        # the list of values from the old dictionary\n",
    "        if not hurricanes_by_year_dict.get(year):\n",
    "            hurricanes_by_year_dict[year] = [value]\n",
    "        #otherwise append the values to the existing year key\n",
    "        else:\n",
    "            hurricanes_by_year_dict[year].append(value)\n",
    "    return hurricanes_by_year_dict\n",
    "    \n",
    "\n",
    "#print(hurricanes_by_year(hurricanes_dict))\n",
    "hurricanes_by_year_dict = hurricanes_by_year(hurricanes_dict)\n",
    "print(hurricanes_by_year_dict[1933])\n",
    "\n"
   ]
  },
  {
   "cell_type": "code",
   "execution_count": null,
   "id": "2684a68b",
   "metadata": {},
   "outputs": [],
   "source": [
    " print(hurricanes_dict[\"Cuba I\"][\"Year\"])\n",
    "    #so this is how you return the year only for a specific record"
   ]
  },
  {
   "cell_type": "code",
   "execution_count": 104,
   "id": "62f527d8",
   "metadata": {},
   "outputs": [
    {
     "name": "stdout",
     "output_type": "stream",
     "text": [
      "['Central America', 'Mexico', 'Cuba', 'Florida', 'The Bahamas', 'Lesser Antilles', 'United States East Coast', 'Atlantic Canada', 'Northeastern United States', 'Jamaica', 'Cayman Islands', 'Bermuda', 'Texas', 'Tamaulipas', 'Yucatn Peninsula', 'Georgia', 'The Carolinas', 'Virginia', 'Southeastern United States', 'Southwestern Quebec', 'New England', 'Louisiana', 'Midwestern United States', 'The Caribbean', 'United States Gulf Coast', 'United States East coast', 'South Texas', 'Venezuela', 'Hispaniola', 'South Florida', 'Greater Antilles', 'Bahamas', 'Eastern United States', 'Ontario', 'Windward Islands', 'Nicaragua', 'Honduras', 'Antilles', 'Colombia', 'Cape Verde', 'British Virgin Islands', 'U.S. Virgin Islands', 'Virgin Islands', 'Puerto Rico', 'Dominican Republic', 'Turks and Caicos Islands', 'United States Gulf Coast (especially Florida Panhandle)']\n"
     ]
    }
   ],
   "source": [
    "# Write a function that counts how often each area is listed as an affected area of a hurricane. Store and return the results \n",
    "# in a dictionary where the keys are the affected areas and the values are counts of how many times the areas were affected.\n",
    "# Test your function on your hurricane dictionary.\n",
    "#PROBABLY DID THIS IN FAR TOO MANY STEPS BUT I HAVE CREATED A LIST OF AREAS AFFECTED FIRST\n",
    "\n",
    "def areas_affected_list (dictionary):\n",
    "    #create an empty list for areas_affected\n",
    "    areas_affected =[]\n",
    "    #iterate through the keys and values of existing hurricanes dictionary\n",
    "    for key in dictionary:\n",
    "        #create a loop within the loop to get the values within the affected areas list\n",
    "        for areaslist_item in dictionary[key][\"Areas Affected\"]:\n",
    "            if areaslist_item not in areas_affected:\n",
    "                areas_affected.append(areaslist_item)\n",
    "        else:\n",
    "            continue\n",
    "    return areas_affected\n",
    "\n",
    "distinct_areas = areas_affected_list(hurricanes_dict)\n",
    "print(distinct_areas)\n",
    "\n",
    "def count_affected_areas(dictionary):\n",
    "    count_areas ={}\n",
    "\n",
    "        \n",
    "            \n",
    "            \n",
    "            \n",
    "        "
   ]
  },
  {
   "cell_type": "code",
   "execution_count": 115,
   "id": "7dd6c57b",
   "metadata": {},
   "outputs": [
    {
     "name": "stdout",
     "output_type": "stream",
     "text": [
      "{'Central America': 1, 'Mexico': 1, 'Cuba': 1, 'Florida': 1, 'The Bahamas': 1}\n"
     ]
    }
   ],
   "source": [
    "def areas_affected_fun (dictionary):\n",
    "    #create an empty list for areas_affected\n",
    "    count_areas_affected ={}\n",
    "    #iterate through the keys and values of existing hurricanes dictionary\n",
    "    for key in dictionary:\n",
    "        #create a loop within the loop to get the values within the affected areas list\n",
    "        for areas_item in dictionary[key][\"Areas Affected\"]:\n",
    "            if areas_item in count_areas_affected:\n",
    "                count_areas_affected[areas_item] +=1\n",
    "            else:\n",
    "                count_areas_affected[areas_item] =1\n",
    "        return count_areas_affected\n",
    "    \n",
    "print(areas_affected_fun(hurricanes_dict))\n",
    "\n",
    "#my query is only returning values from the first entry in the hurricanes dictionary so Central America, Mexico, Cuba, Flordia,\n",
    "# the bahamas. DONT UNDERSTAND WHY IT IS NOT CONTINUING TO ITERATE THROUGH THE NEXT ENTRIES\n",
    "                \n",
    "                \n",
    "#     We then check if area exists as a key in our new dictionary, and if not, initialize the key with a count value of 1.\n",
    "\n",
    "# If area does exist as a key, the count value is increased by 1.    \n",
    "        \n",
    "   \n",
    "            \n",
    "            \n",
    "#             if areaslist_item not in areas_affected:\n",
    "#                 areas_affected.append(areaslist_item)\n",
    "#         else:\n",
    "#             continue\n",
    "#     return areas_affected\n",
    "\n",
    "# distinct_areas = areas_affected_list(hurricanes_dict)\n",
    "# print(distinct_areas)\n",
    "\n"
   ]
  },
  {
   "cell_type": "code",
   "execution_count": null,
   "id": "7294b159",
   "metadata": {},
   "outputs": [],
   "source": []
  },
  {
   "cell_type": "code",
   "execution_count": null,
   "id": "9a98e4cb",
   "metadata": {},
   "outputs": [],
   "source": []
  },
  {
   "cell_type": "code",
   "execution_count": null,
   "id": "7493f20f",
   "metadata": {},
   "outputs": [],
   "source": []
  },
  {
   "cell_type": "code",
   "execution_count": null,
   "id": "2805b8c8",
   "metadata": {},
   "outputs": [],
   "source": [
    "\n",
    "                                                     "
   ]
  },
  {
   "cell_type": "code",
   "execution_count": null,
   "id": "3618ce1f",
   "metadata": {},
   "outputs": [],
   "source": []
  },
  {
   "cell_type": "code",
   "execution_count": null,
   "id": "4ba16791",
   "metadata": {},
   "outputs": [],
   "source": []
  },
  {
   "cell_type": "code",
   "execution_count": null,
   "id": "b08b2ac8",
   "metadata": {},
   "outputs": [],
   "source": [
    "\n"
   ]
  },
  {
   "cell_type": "code",
   "execution_count": null,
   "id": "8b6d0fcd",
   "metadata": {},
   "outputs": [],
   "source": []
  }
 ],
 "metadata": {
  "kernelspec": {
   "display_name": "Python 3 (ipykernel)",
   "language": "python",
   "name": "python3"
  },
  "language_info": {
   "codemirror_mode": {
    "name": "ipython",
    "version": 3
   },
   "file_extension": ".py",
   "mimetype": "text/x-python",
   "name": "python",
   "nbconvert_exporter": "python",
   "pygments_lexer": "ipython3",
   "version": "3.9.7"
  }
 },
 "nbformat": 4,
 "nbformat_minor": 5
}
